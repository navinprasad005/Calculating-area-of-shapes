{
 "cells": [
  {
   "cell_type": "markdown",
   "metadata": {},
   "source": [
    "Write a program to calculate area of shapes. Your program should be capable of calculating the area of a square, rectangle, triangle and a circle. The user should be presented with options to select the shape. Based on which shape is chosed by the user, the program should ask for the appropriate input and print the resulting area on the screen.\n",
    "\n",
    "When the program is run, the screen should display something like this:\n",
    "\n",
    "**Which shape would you like to calculate the area for? Please enter the option number-**<br>\n",
    "**1. Square**<br>\n",
    "**2. Rectangle**<br>\n",
    "**3. Triangle**<br>\n",
    "**4. Circle**<br>\n",
    "**Enter Option: _**\n",
    "\n",
    "Say the user enters the option 1.\n",
    "\n",
    "**Please enter the length of a side: _**\n",
    "\n",
    "If the user enters a value of 5. The output should be:\n",
    "\n",
    "**The area of the square is 25**\n",
    "\n",
    "This program should indicate that the input is invalid if the user enters a character instead of a number as input. For instance if the user enters a value of ‘a’ instead of 5 in the previous example the program should prompt:\n",
    "\n",
    "**Invalid input, please enter a number: _**"
   ]
  },
  {
   "cell_type": "code",
   "execution_count": 5,
   "metadata": {},
   "outputs": [
    {
     "name": "stdout",
     "output_type": "stream",
     "text": [
      "Which shape would you like to calculate the area for?\n",
      "Please enter the option number-\n",
      "    1. Square\n",
      "    2. Rectangle\n",
      "    3. Triangle\n",
      "    4. Circle\n",
      "Enter Option: 1\n",
      "Please enter the length of a side: 5\n",
      "The area of the square is 25\n"
     ]
    }
   ],
   "source": [
    "opt = int(input('''Which shape would you like to calculate the area for?\n",
    "Please enter the option number-\n",
    "    1. Square\n",
    "    2. Rectangle\n",
    "    3. Triangle\n",
    "    4. Circle\n",
    "Enter Option: '''))\n",
    "try:\n",
    "    if opt == 1:\n",
    "        sl = int(input('Please enter the length of a side: '))\n",
    "        print('The area of the square is',sl**2)\n",
    "    elif opt == 2:\n",
    "        rl = int(input('Please enter the length of the rectangle: '))\n",
    "        rb = int(input('Please enter the breadth of the rectangle: '))\n",
    "        print('The area of the rectangle is',rl*rb)\n",
    "    elif opt == 3:\n",
    "        tb = int(input('Please enter the base of the triangle: '))\n",
    "        th = int(input('Please enter the height of the triangle: '))\n",
    "        print('The area of the triangle is',(tb*th)/2)\n",
    "    elif opt == 4:\n",
    "        pi = 22/7\n",
    "        r = int(input('Please enter the radius of circle: '))\n",
    "        print('The area of the circle is {0:.2f}'.format(pi*(r**2)))\n",
    "    else:\n",
    "        print('Enter the correct option')\n",
    "except:\n",
    "    print('Invalid input, please enter a number')"
   ]
  }
 ],
 "metadata": {
  "kernelspec": {
   "display_name": "Python 3",
   "language": "python",
   "name": "python3"
  },
  "language_info": {
   "codemirror_mode": {
    "name": "ipython",
    "version": 3
   },
   "file_extension": ".py",
   "mimetype": "text/x-python",
   "name": "python",
   "nbconvert_exporter": "python",
   "pygments_lexer": "ipython3",
   "version": "3.7.6"
  }
 },
 "nbformat": 4,
 "nbformat_minor": 2
}
